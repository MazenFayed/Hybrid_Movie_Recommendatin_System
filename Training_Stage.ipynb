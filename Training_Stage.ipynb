{
 "cells": [
  {
   "cell_type": "code",
   "execution_count": 61,
   "id": "ff3b0384-024c-4266-84c9-8091df865b46",
   "metadata": {},
   "outputs": [],
   "source": [
    "import pandas as pd\n",
    "import torch\n",
    "import torch.nn as nn\n",
    "import numpy as np\n",
    "from sklearn.preprocessing import MultiLabelBinarizer, LabelEncoder, StandardScaler\n",
    "from sklearn.feature_extraction.text import TfidfVectorizer\n",
    "from surprise import SVD, Dataset, Reader\n",
    "from surprise.model_selection import train_test_split, cross_validate\n",
    "import os\n",
    "import joblib"
   ]
  },
  {
   "cell_type": "code",
   "execution_count": 62,
   "id": "24cfa5e9-2edd-4f3b-a5c4-483cee3b6ad0",
   "metadata": {},
   "outputs": [],
   "source": [
    "# for reproducibility\n",
    "import os\n",
    "import random\n",
    "\n",
    "def seed_everything(seed=42):\n",
    "  random.seed(seed)\n",
    "  os.environ['PYTHONHASHSEED'] = str(seed)\n",
    "  np.random.seed(seed)\n",
    "  torch.manual_seed(seed)\n",
    "  torch.cuda.manual_seed(seed)\n",
    "  torch.backends.cudnn.deterministic = True\n",
    "seed_everything()"
   ]
  },
  {
   "cell_type": "markdown",
   "id": "c67e3bc0-5116-4319-8873-f99f75f6ec37",
   "metadata": {},
   "source": [
    "# Loading DataSets"
   ]
  },
  {
   "cell_type": "code",
   "execution_count": 64,
   "id": "eff071af-38dd-47f8-aded-c881b96195d9",
   "metadata": {},
   "outputs": [
    {
     "name": "stdout",
     "output_type": "stream",
     "text": [
      "Loaded CSV files: ['links.csv', 'movies.csv', 'ratings.csv', 'tags.csv']\n",
      "\n",
      "links.csv:\n",
      "    movieId  imdbId   tmdbId\n",
      "0        1  114709    862.0\n",
      "1        2  113497   8844.0\n",
      "2        3  113228  15602.0\n",
      "3        4  114885  31357.0\n",
      "4        5  113041  11862.0\n",
      "\n",
      "movies.csv:\n",
      "    movieId                               title  \\\n",
      "0        1                    Toy Story (1995)   \n",
      "1        2                      Jumanji (1995)   \n",
      "2        3             Grumpier Old Men (1995)   \n",
      "3        4            Waiting to Exhale (1995)   \n",
      "4        5  Father of the Bride Part II (1995)   \n",
      "\n",
      "                                        genres  \n",
      "0  Adventure|Animation|Children|Comedy|Fantasy  \n",
      "1                   Adventure|Children|Fantasy  \n",
      "2                               Comedy|Romance  \n",
      "3                         Comedy|Drama|Romance  \n",
      "4                                       Comedy  \n",
      "\n",
      "ratings.csv:\n",
      "    userId  movieId  rating  timestamp\n",
      "0       1        1     4.0  964982703\n",
      "1       1        3     4.0  964981247\n",
      "2       1        6     4.0  964982224\n",
      "3       1       47     5.0  964983815\n",
      "4       1       50     5.0  964982931\n",
      "\n",
      "tags.csv:\n",
      "    userId  movieId              tag   timestamp\n",
      "0       2    60756            funny  1445714994\n",
      "1       2    60756  Highly quotable  1445714996\n",
      "2       2    60756     will ferrell  1445714992\n",
      "3       2    89774     Boxing story  1445715207\n",
      "4       2    89774              MMA  1445715200\n"
     ]
    }
   ],
   "source": [
    "directory = r\"E:\\Courses\\recommendation system\\project\\project_descrption\\ml-latest-small\"\n",
    "\n",
    "# List all CSV files in the directory\n",
    "csv_files = [f for f in os.listdir(directory) if f.endswith('.csv')]\n",
    "\n",
    "# Load each CSV file into a dictionary of DataFrames\n",
    "dataframes = {file: pd.read_csv(os.path.join(directory, file)) for file in csv_files}\n",
    "\n",
    "# Print loaded files\n",
    "print(f\"Loaded CSV files: {list(dataframes.keys())}\")\n",
    "\n",
    "# Access individual DataFrames\n",
    "links_df = dataframes.get(\"links.csv\")\n",
    "movies_df = dataframes.get(\"movies.csv\")\n",
    "ratings_df = dataframes.get(\"ratings.csv\")\n",
    "tags_df = dataframes.get(\"tags.csv\")\n",
    "\n",
    "# Example: Display the first few rows of each CSV\n",
    "for name, df in dataframes.items():\n",
    "    print(f\"\\n{name}:\\n\", df.head())"
   ]
  },
  {
   "cell_type": "markdown",
   "id": "e7bb3c90-ef7d-4429-9fa9-baf2cedbb76b",
   "metadata": {},
   "source": [
    "# Data Preprocessing"
   ]
  },
  {
   "cell_type": "markdown",
   "id": "3e275c37-1ced-4202-9256-6333c282c1d5",
   "metadata": {},
   "source": [
    "### Get copy of dataframes Movies and ratings"
   ]
  },
  {
   "cell_type": "code",
   "execution_count": 67,
   "id": "6fdb9053-3f18-44c9-b152-6b8184007da2",
   "metadata": {},
   "outputs": [],
   "source": [
    "movies = movies_df\n",
    "ratings = ratings_df\n",
    "tags = tags_df\n",
    "links = links_df"
   ]
  },
  {
   "cell_type": "markdown",
   "id": "89258514-6514-4a31-87eb-e874ae6b2c40",
   "metadata": {},
   "source": [
    "### Split genres and one-hot encode"
   ]
  },
  {
   "cell_type": "code",
   "execution_count": 69,
   "id": "2e449649-2b6e-4f35-b74b-a2e2a6a2c852",
   "metadata": {},
   "outputs": [],
   "source": [
    "genres_list = movies['genres'].apply(lambda x: x.split('|'))\n",
    "mlb = MultiLabelBinarizer()\n",
    "genres_encoded = pd.DataFrame(mlb.fit_transform(genres_list), columns=mlb.classes_)\n",
    "movies = movies.drop(columns=['genres']).join(genres_encoded)"
   ]
  },
  {
   "cell_type": "markdown",
   "id": "fa0794e7-5f6d-4dd9-8731-9f79f658e979",
   "metadata": {},
   "source": [
    "### Process Tags (TF-IDF)"
   ]
  },
  {
   "cell_type": "code",
   "execution_count": 71,
   "id": "70480892-fa0b-47f0-a1a3-f0e8090e4539",
   "metadata": {},
   "outputs": [],
   "source": [
    "tags = tags.dropna()\n",
    "tags['tag'] = tags['tag'].astype(str)\n",
    "movie_tags = tags.groupby('movieId')['tag'].apply(lambda x: ' '.join(x)).reset_index()\n",
    "vectorizer = TfidfVectorizer(stop_words='english', max_features=100)\n",
    "tag_features = vectorizer.fit_transform(movie_tags['tag'])\n",
    "tag_features_df = pd.DataFrame(tag_features.toarray(), columns=vectorizer.get_feature_names_out())\n",
    "tag_features_df['movieId'] = movie_tags['movieId']\n",
    "movies = pd.merge(movies, tag_features_df, on='movieId', how='left').fillna(0)\n"
   ]
  },
  {
   "cell_type": "markdown",
   "id": "5a628c60-3331-46cd-b524-3f3aade051ed",
   "metadata": {},
   "source": [
    "### Encode User and Movie IDs"
   ]
  },
  {
   "cell_type": "code",
   "execution_count": 73,
   "id": "179d2838-e396-439c-a3b8-9314d243538d",
   "metadata": {},
   "outputs": [],
   "source": [
    "user_encoder = LabelEncoder()\n",
    "movie_encoder = LabelEncoder()\n",
    "ratings['userId'] = user_encoder.fit_transform(ratings['userId'])\n",
    "movies['movieId'] = movie_encoder.fit_transform(movies['movieId'])\n"
   ]
  },
  {
   "cell_type": "markdown",
   "id": "7735cb9e-ee18-4cf5-9e18-da80d876257e",
   "metadata": {},
   "source": [
    "### Prepare Training Data"
   ]
  },
  {
   "cell_type": "code",
   "execution_count": 75,
   "id": "49e8b21b-e218-4589-ad91-9e5240449f17",
   "metadata": {},
   "outputs": [],
   "source": [
    "df = ratings.merge(movies, on=\"movieId\", how=\"left\").dropna()\n",
    "feature_columns = ['userId'] + [col for col in movies.columns if col not in ['movieId', 'title']]\n",
    "\n",
    "X = torch.tensor(df[feature_columns].values, dtype=torch.float32)\n",
    "y = torch.tensor(df['rating'].values, dtype=torch.float32).view(-1, 1)\n",
    "\n",
    "scaler = StandardScaler()\n",
    "X = torch.tensor(scaler.fit_transform(X), dtype=torch.float32)\n"
   ]
  },
  {
   "cell_type": "markdown",
   "id": "0057e1bb-a59c-40b0-981c-bafcde27d477",
   "metadata": {},
   "source": [
    "# 1️⃣ Content-Based Filtering with Deep Learning"
   ]
  },
  {
   "cell_type": "markdown",
   "id": "6da353e5-d861-494a-ae34-36b44bc9d5da",
   "metadata": {},
   "source": [
    "### Define Neural Network"
   ]
  },
  {
   "cell_type": "code",
   "execution_count": 78,
   "id": "054ef601-35b2-42f0-9c93-ce66da776e70",
   "metadata": {},
   "outputs": [],
   "source": [
    "class MovieRecommender(nn.Module):\n",
    "    def __init__(self, input_dim, hidden_dim=128):\n",
    "        super(MovieRecommender, self).__init__()\n",
    "        self.fc1 = nn.Linear(input_dim, hidden_dim)\n",
    "        self.bn1 = nn.BatchNorm1d(hidden_dim)\n",
    "        self.relu = nn.ReLU()\n",
    "        self.dropout = nn.Dropout(0.3)\n",
    "        self.fc2 = nn.Linear(hidden_dim, 64)\n",
    "        self.bn2 = nn.BatchNorm1d(64)\n",
    "        self.fc3 = nn.Linear(64, 1)\n",
    "\n",
    "    def forward(self, x):\n",
    "        x = self.fc1(x)\n",
    "        x = self.bn1(x)\n",
    "        x = self.relu(x)\n",
    "        x = self.dropout(x)\n",
    "        x = self.fc2(x)\n",
    "        x = self.bn2(x)\n",
    "        x = self.relu(x)\n",
    "        x = self.fc3(x)\n",
    "        return x\n"
   ]
  },
  {
   "cell_type": "markdown",
   "id": "c53ec0bf-fa50-452f-a816-a1e7f68549b1",
   "metadata": {},
   "source": [
    "### Initialize Model"
   ]
  },
  {
   "cell_type": "code",
   "execution_count": 80,
   "id": "c5dd3cda-0e38-43f6-8e42-c1a8043a4baf",
   "metadata": {},
   "outputs": [],
   "source": [
    "model = MovieRecommender(X.shape[1])\n",
    "criterion = nn.MSELoss()\n",
    "optimizer = torch.optim.AdamW(model.parameters(), lr=0.001)"
   ]
  },
  {
   "cell_type": "markdown",
   "id": "7dcca056-615a-4b56-9c66-797d46839372",
   "metadata": {},
   "source": [
    "### Training Loop"
   ]
  },
  {
   "cell_type": "code",
   "execution_count": 82,
   "id": "249a735e-00ab-40ca-a720-8df21067f368",
   "metadata": {},
   "outputs": [
    {
     "name": "stdout",
     "output_type": "stream",
     "text": [
      "Epoch 0, Loss: 13.019725799560547\n",
      "Epoch 100, Loss: 1.120574712753296\n",
      "Epoch 200, Loss: 1.0576012134552002\n",
      "Epoch 300, Loss: 1.0493029356002808\n",
      "Epoch 400, Loss: 1.0448155403137207\n",
      "Epoch 500, Loss: 1.0433131456375122\n",
      "Epoch 600, Loss: 1.040980577468872\n",
      "Epoch 700, Loss: 1.0397700071334839\n",
      "Epoch 800, Loss: 1.0377016067504883\n",
      "Epoch 900, Loss: 1.0374125242233276\n",
      "✅ Training Complete!\n"
     ]
    }
   ],
   "source": [
    "epochs = 1000\n",
    "for epoch in range(epochs):\n",
    "    optimizer.zero_grad()\n",
    "    outputs = model(X)\n",
    "    loss = criterion(outputs, y)\n",
    "    if torch.isnan(loss):\n",
    "        print(\"🚨 NaN detected in loss! Stopping training.\")\n",
    "        break\n",
    "    loss.backward()\n",
    "    torch.nn.utils.clip_grad_norm_(model.parameters(), max_norm=1.0)\n",
    "    optimizer.step()\n",
    "    if epoch % 100 == 0:\n",
    "        print(f\"Epoch {epoch}, Loss: {loss.item()}\")\n",
    "\n",
    "print(\"✅ Training Complete!\")"
   ]
  },
  {
   "cell_type": "markdown",
   "id": "5258055d-d19f-4954-b71e-34bdf5f391e3",
   "metadata": {},
   "source": [
    "# 2️⃣ Collaborative Filtering with SVD"
   ]
  },
  {
   "cell_type": "code",
   "execution_count": 84,
   "id": "82d85243-07e7-44f2-931f-adbca283518e",
   "metadata": {},
   "outputs": [
    {
     "data": {
      "text/plain": [
       "<surprise.prediction_algorithms.matrix_factorization.SVD at 0x15df79a8500>"
      ]
     },
     "execution_count": 84,
     "metadata": {},
     "output_type": "execute_result"
    }
   ],
   "source": [
    "reader = Reader(rating_scale=(ratings_df['rating'].min(), ratings_df['rating'].max()))\n",
    "data = Dataset.load_from_df(ratings_df[['userId', 'movieId', 'rating']], reader)\n",
    "trainset, testset = train_test_split(data, test_size=0.2)\n",
    "\n",
    "svd = SVD()\n",
    "svd.fit(trainset)"
   ]
  },
  {
   "cell_type": "markdown",
   "id": "250c5824-9627-4f81-8633-edb58160ecd7",
   "metadata": {},
   "source": [
    "# 🔹Hybrid Recommendation System"
   ]
  },
  {
   "cell_type": "code",
   "execution_count": 86,
   "id": "ef341de4-d9a1-4a0b-9d8a-d6f26989428a",
   "metadata": {},
   "outputs": [
    {
     "name": "stdout",
     "output_type": "stream",
     "text": [
      "Top Hybrid Recommendations:\n"
     ]
    },
    {
     "name": "stderr",
     "output_type": "stream",
     "text": [
      "E:\\Users\\mazen\\anaconda3\\Lib\\site-packages\\sklearn\\base.py:486: UserWarning: X has feature names, but StandardScaler was fitted without feature names\n",
      "  warnings.warn(\n"
     ]
    },
    {
     "data": {
      "text/html": [
       "<div>\n",
       "<style scoped>\n",
       "    .dataframe tbody tr th:only-of-type {\n",
       "        vertical-align: middle;\n",
       "    }\n",
       "\n",
       "    .dataframe tbody tr th {\n",
       "        vertical-align: top;\n",
       "    }\n",
       "\n",
       "    .dataframe thead th {\n",
       "        text-align: right;\n",
       "    }\n",
       "</style>\n",
       "<table border=\"1\" class=\"dataframe\">\n",
       "  <thead>\n",
       "    <tr style=\"text-align: right;\">\n",
       "      <th></th>\n",
       "      <th>movieId</th>\n",
       "      <th>title</th>\n",
       "      <th>content_score</th>\n",
       "      <th>svd_score</th>\n",
       "      <th>hybrid_score</th>\n",
       "    </tr>\n",
       "  </thead>\n",
       "  <tbody>\n",
       "    <tr>\n",
       "      <th>898</th>\n",
       "      <td>898</td>\n",
       "      <td>Star Wars: Episode V - The Empire Strikes Back...</td>\n",
       "      <td>4.250794</td>\n",
       "      <td>5.000000</td>\n",
       "      <td>4.625397</td>\n",
       "    </tr>\n",
       "    <tr>\n",
       "      <th>527</th>\n",
       "      <td>527</td>\n",
       "      <td>Aristocats, The (1970)</td>\n",
       "      <td>4.116347</td>\n",
       "      <td>5.000000</td>\n",
       "      <td>4.558173</td>\n",
       "    </tr>\n",
       "    <tr>\n",
       "      <th>6016</th>\n",
       "      <td>6016</td>\n",
       "      <td>Kiss Kiss Bang Bang (2005)</td>\n",
       "      <td>4.096378</td>\n",
       "      <td>5.000000</td>\n",
       "      <td>4.548189</td>\n",
       "    </tr>\n",
       "    <tr>\n",
       "      <th>5618</th>\n",
       "      <td>5618</td>\n",
       "      <td>Dark Portals: The Chronicles of Vidocq  (Vidoc...</td>\n",
       "      <td>4.073554</td>\n",
       "      <td>4.986054</td>\n",
       "      <td>4.529804</td>\n",
       "    </tr>\n",
       "    <tr>\n",
       "      <th>2571</th>\n",
       "      <td>2571</td>\n",
       "      <td>Teenage Mutant Ninja Turtles II: The Secret of...</td>\n",
       "      <td>4.092148</td>\n",
       "      <td>4.908234</td>\n",
       "      <td>4.500191</td>\n",
       "    </tr>\n",
       "    <tr>\n",
       "      <th>3275</th>\n",
       "      <td>3275</td>\n",
       "      <td>10th Victim, The (La decima vittima) (1965)</td>\n",
       "      <td>4.086528</td>\n",
       "      <td>4.877520</td>\n",
       "      <td>4.482024</td>\n",
       "    </tr>\n",
       "    <tr>\n",
       "      <th>2028</th>\n",
       "      <td>2028</td>\n",
       "      <td>South Park: Bigger, Longer and Uncut (1999)</td>\n",
       "      <td>4.061604</td>\n",
       "      <td>4.872762</td>\n",
       "      <td>4.467183</td>\n",
       "    </tr>\n",
       "    <tr>\n",
       "      <th>913</th>\n",
       "      <td>913</td>\n",
       "      <td>Third Man, The (1949)</td>\n",
       "      <td>4.087634</td>\n",
       "      <td>4.798630</td>\n",
       "      <td>4.443132</td>\n",
       "    </tr>\n",
       "    <tr>\n",
       "      <th>4973</th>\n",
       "      <td>4973</td>\n",
       "      <td>Oklahoma! (1955)</td>\n",
       "      <td>3.879189</td>\n",
       "      <td>5.000000</td>\n",
       "      <td>4.439594</td>\n",
       "    </tr>\n",
       "    <tr>\n",
       "      <th>951</th>\n",
       "      <td>951</td>\n",
       "      <td>Chinatown (1974)</td>\n",
       "      <td>4.066905</td>\n",
       "      <td>4.782972</td>\n",
       "      <td>4.424938</td>\n",
       "    </tr>\n",
       "  </tbody>\n",
       "</table>\n",
       "</div>"
      ],
      "text/plain": [
       "      movieId                                              title  \\\n",
       "898       898  Star Wars: Episode V - The Empire Strikes Back...   \n",
       "527       527                             Aristocats, The (1970)   \n",
       "6016     6016                         Kiss Kiss Bang Bang (2005)   \n",
       "5618     5618  Dark Portals: The Chronicles of Vidocq  (Vidoc...   \n",
       "2571     2571  Teenage Mutant Ninja Turtles II: The Secret of...   \n",
       "3275     3275        10th Victim, The (La decima vittima) (1965)   \n",
       "2028     2028        South Park: Bigger, Longer and Uncut (1999)   \n",
       "913       913                              Third Man, The (1949)   \n",
       "4973     4973                                   Oklahoma! (1955)   \n",
       "951       951                                   Chinatown (1974)   \n",
       "\n",
       "      content_score  svd_score  hybrid_score  \n",
       "898        4.250794   5.000000      4.625397  \n",
       "527        4.116347   5.000000      4.558173  \n",
       "6016       4.096378   5.000000      4.548189  \n",
       "5618       4.073554   4.986054      4.529804  \n",
       "2571       4.092148   4.908234      4.500191  \n",
       "3275       4.086528   4.877520      4.482024  \n",
       "2028       4.061604   4.872762      4.467183  \n",
       "913        4.087634   4.798630      4.443132  \n",
       "4973       3.879189   5.000000      4.439594  \n",
       "951        4.066905   4.782972      4.424938  "
      ]
     },
     "execution_count": 86,
     "metadata": {},
     "output_type": "execute_result"
    }
   ],
   "source": [
    "def get_hybrid_recommendations(user_id, top_n=10, alpha=0.5):\n",
    "    user_idx = user_encoder.transform([user_id])[0]\n",
    "    unrated_movies =  movies[~movies['movieId'].isin(ratings['movieId'][ratings['userId']==user_id])]\n",
    "    candidate_movies = unrated_movies.copy()\n",
    "    candidate_movies['userId'] = user_idx\n",
    "\n",
    "    feature_columns = ['userId'] + [col for col in movies.columns if col not in ['movieId', 'title']]\n",
    "    X_candidate = torch.tensor(scaler.transform(candidate_movies[feature_columns]), dtype=torch.float32)\n",
    "\n",
    "    model.eval()\n",
    "    with torch.no_grad():\n",
    "        candidate_movies['content_score'] = model(X_candidate).numpy().flatten()\n",
    "    \n",
    "    candidate_movies['svd_score'] = candidate_movies['movieId'].apply(lambda x: svd.predict(user_idx, x).est)\n",
    "    candidate_movies['hybrid_score'] = alpha * candidate_movies['content_score'] + (1 - alpha) * candidate_movies['svd_score']\n",
    "    \n",
    "    top_recommendations = candidate_movies.sort_values(by='hybrid_score', ascending=False).head(top_n)\n",
    "    \n",
    "    return top_recommendations[['movieId', 'title', 'content_score', 'svd_score', 'hybrid_score']]\n",
    "\n",
    "# Example Usage\n",
    "user_id = 1 # Replace with actual user ID\n",
    "recommendations = get_hybrid_recommendations(user_id)\n",
    "print(\"Top Hybrid Recommendations:\")\n",
    "recommendations"
   ]
  },
  {
   "cell_type": "code",
   "execution_count": 87,
   "id": "a0a3d261-47a1-40ca-aedb-b526206cf2a9",
   "metadata": {},
   "outputs": [],
   "source": [
    "import requests\n",
    "# Implement the function to take new_id value map it back to original id and then query the API and return the movie title\n",
    "def get_titles(movie_id):\n",
    "    #print(\"index_id\",index_id)\n",
    "    imdbId = links['imdbId'][links['movieId']==movie_id].values[0]\n",
    "    #print(\"imdbId\",imdbId)\n",
    "\n",
    "    #url = \"https://www.imdb.com/title/tt0114709/\"\n",
    "    # Define headers to make the request look like it's coming from a browser\n",
    "    headers = {\n",
    "        \"User-Agent\": \"Mozilla/5.0 (Windows NT 10.0; Win64; x64) AppleWebKit/537.36 (KHTML, like Gecko) Chrome/58.0.3029.110 Safari/537.36\"\n",
    "    }\n",
    "    \n",
    "    response = requests.get(f\"https://www.omdbapi.com/?i=tt0{imdbId}&apikey=56280332\", headers=headers)\n",
    "    \n",
    "    if response.status_code == 200:\n",
    "        #print(\"Request successful!\")\n",
    "        data = response.json()\n",
    "        #print(data)  # This will print the HTML content of the page\n",
    "        return data.get(\"Title\", \"Title not found\")\n",
    "    else:\n",
    "        print(f\"Failed to retrieve the page. Status code: {response.status_code}\")\n",
    "        return f\"Failed to retrieve the page. Status code: {response.status_code}\""
   ]
  },
  {
   "cell_type": "code",
   "execution_count": 88,
   "id": "546da732-47d5-43a0-9bad-7759f0f7e6d7",
   "metadata": {},
   "outputs": [
    {
     "data": {
      "text/plain": [
       "'The Usual Suspects'"
      ]
     },
     "execution_count": 88,
     "metadata": {},
     "output_type": "execute_result"
    }
   ],
   "source": [
    "get_titles(50)"
   ]
  }
 ],
 "metadata": {
  "kernelspec": {
   "display_name": "Python 3 (ipykernel)",
   "language": "python",
   "name": "python3"
  },
  "language_info": {
   "codemirror_mode": {
    "name": "ipython",
    "version": 3
   },
   "file_extension": ".py",
   "mimetype": "text/x-python",
   "name": "python",
   "nbconvert_exporter": "python",
   "pygments_lexer": "ipython3",
   "version": "3.12.3"
  }
 },
 "nbformat": 4,
 "nbformat_minor": 5
}
